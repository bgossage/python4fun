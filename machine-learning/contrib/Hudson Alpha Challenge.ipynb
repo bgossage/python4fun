{
 "cells": [
  {
   "cell_type": "code",
   "execution_count": 46,
   "metadata": {
    "collapsed": true
   },
   "outputs": [],
   "source": [
    "import pandas\n",
    "import numpy\n",
    "import tensorflow\n",
    "import tflearn"
   ]
  },
  {
   "cell_type": "code",
   "execution_count": 47,
   "metadata": {},
   "outputs": [
    {
     "name": "stdout",
     "output_type": "stream",
     "text": [
      "['Unnamed: 0', 'AGGAGG', 'GCCACCATGG', 'GCCGCCATGG', 'GGCCAATCT', 'TATAAT', 'TATATAA', 'Y']\n",
      "column length is:  8\n",
      "X rows =  387\n",
      "X columns =  6\n"
     ]
    }
   ],
   "source": [
    "# This is reading the csv file\n",
    "filename = \"data/changed_all_substrings.csv\"\n",
    "dataframe = pandas.read_csv(filename)\n",
    "\n",
    "# This is getting the row and column labels for accessing each element\n",
    "row_labels = list(dataframe.index)\n",
    "column_labels = list(dataframe.columns.values)\n",
    "print(column_labels)\n",
    "print(\"column length is: \", len(column_labels))\n",
    "\n",
    "# Make an empty XY, X and Y matrix\n",
    "x_rows = len(row_labels)\n",
    "x_columns = len(column_labels) - 2\n",
    "\n",
    "# XY contains both X and Y\n",
    "XY = numpy.zeros([x_rows, x_columns+1]) # plus one for Y\n",
    "X = numpy.zeros([x_rows, x_columns]) # features\n",
    "Y = numpy.empty([x_rows, 1]) # correct output\n",
    "\n",
    "print(\"X rows = \", x_rows)\n",
    "print(\"X columns = \", x_columns)"
   ]
  },
  {
   "cell_type": "code",
   "execution_count": 48,
   "metadata": {
    "collapsed": true
   },
   "outputs": [],
   "source": [
    "# Initialize XY matrix\n",
    "# Column iterator\n",
    "column_itr = 0\n",
    "for i in range(len(column_labels)):\n",
    "    if (i != 0):\n",
    "        arr = numpy.asarray(list(dataframe[column_labels[i]]))\n",
    "        XY[:,column_itr] = arr\n",
    "        column_itr += 1\n",
    "        \n",
    "# Shuffle XY together\n",
    "numpy.random.shuffle(XY)\n",
    "\n",
    "std_X = numpy.zeros([x_rows, x_columns]) # Create a variable to store the standardized X \n",
    "\n",
    "# Standardize X and store it to std_X \n",
    "column_itr = 0\n",
    "for i in range(x_columns):\n",
    "    std_X[:,i] = (XY[:,i] - numpy.mean(XY[:,i])) / numpy.std(XY[:,i])\n",
    "\n",
    "# Initialize Y \n",
    "Y[:,0] = XY[:,(len(column_labels) - 2)]\n",
    "\n",
    "onehot_Y = numpy.zeros([x_rows, 2]) # Create a variable to store onehot encoding of Y\n",
    "# One hot encode Y\n",
    "for i in range(x_rows):\n",
    "    if (Y[i,0] == 1):\n",
    "        onehot_Y[i,0] = 1\n",
    "    else:\n",
    "        onehot_Y[i,1] = 1"
   ]
  },
  {
   "cell_type": "code",
   "execution_count": 49,
   "metadata": {
    "collapsed": true
   },
   "outputs": [],
   "source": [
    "def build_model():\n",
    "    # Reset all the parameters and variables\n",
    "    tensorflow.reset_default_graph()\n",
    "    \n",
    "    # Inputs\n",
    "    network = tflearn.input_data([None, x_columns])\n",
    "\n",
    "    # Hidden layer(s)\n",
    "    network = tflearn.fully_connected(network, 48, activation='ReLU')\n",
    "    network = tflearn.fully_connected(network, 12, activation='ReLU')\n",
    "    \n",
    "    # Output layer and training model\n",
    "    network = tflearn.fully_connected(network, 2, activation='softmax')\n",
    "    network = tflearn.regression(network, optimizer='sgd', learning_rate=0.08, loss='categorical_crossentropy')\n",
    "    \n",
    "    model = tflearn.DNN(network)\n",
    "    return model"
   ]
  },
  {
   "cell_type": "code",
   "execution_count": 50,
   "metadata": {},
   "outputs": [
    {
     "name": "stdout",
     "output_type": "stream",
     "text": [
      "Training Step: 779  | total loss: \u001b[1m\u001b[32m0.13734\u001b[0m\u001b[0m | time: 0.064s\n",
      "| SGD | epoch: 060 | loss: 0.13734 - acc: 0.9422 -- iter: 360/367\n",
      "Training Step: 780  | total loss: \u001b[1m\u001b[32m0.13250\u001b[0m\u001b[0m | time: 1.078s\n",
      "| SGD | epoch: 060 | loss: 0.13250 - acc: 0.9446 | val_loss: 0.09649 - val_acc: 0.9500 -- iter: 367/367\n",
      "--\n"
     ]
    }
   ],
   "source": [
    "model = build_model()\n",
    "model.fit(std_X, onehot_Y, validation_set=0.05, batch_size=30, n_epoch=60, show_metric=True)"
   ]
  },
  {
   "cell_type": "code",
   "execution_count": 51,
   "metadata": {},
   "outputs": [
    {
     "name": "stdout",
     "output_type": "stream",
     "text": [
      "Test accuracy:  0.958656330749\n"
     ]
    }
   ],
   "source": [
    "# Source Udacity\n",
    "# Compare the labels that our model predicts with the actual labels\n",
    "\n",
    "# Find the indices of the most confident prediction for each item. That tells us the predicted digit for that sample.\n",
    "predictions = numpy.array(model.predict(std_X)).argmax(axis=1)\n",
    "\n",
    "# Calculate the accuracy, which is the percentage of times the predicated labels matched the actual labels\n",
    "actual = onehot_Y.argmax(axis=1)\n",
    "test_accuracy = numpy.mean(predictions == actual, axis=0)\n",
    "\n",
    "# Print out the result\n",
    "print(\"Test accuracy: \", test_accuracy)"
   ]
  }
 ],
 "metadata": {
  "kernelspec": {
   "display_name": "Python 3",
   "language": "python",
   "name": "python3"
  },
  "language_info": {
   "codemirror_mode": {
    "name": "ipython",
    "version": 3
   },
   "file_extension": ".py",
   "mimetype": "text/x-python",
   "name": "python",
   "nbconvert_exporter": "python",
   "pygments_lexer": "ipython3",
   "version": "3.6.3"
  }
 },
 "nbformat": 4,
 "nbformat_minor": 2
}
